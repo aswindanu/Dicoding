{
  "nbformat": 4,
  "nbformat_minor": 0,
  "metadata": {
    "colab": {
      "name": "Tweet Emotion Classification",
      "provenance": [],
      "toc_visible": true,
      "include_colab_link": true
    },
    "kernelspec": {
      "name": "python3",
      "display_name": "Python 3"
    },
    "language_info": {
      "name": "python"
    },
    "accelerator": "GPU"
  },
  "cells": [
    {
      "cell_type": "markdown",
      "metadata": {
        "id": "view-in-github",
        "colab_type": "text"
      },
      "source": [
        "<a href=\"https://colab.research.google.com/github/myarist/Dicoding/blob/main/Project/Tweet%20Emotion%20Classification%20-%20NLP.ipynb\" target=\"_parent\"><img src=\"https://colab.research.google.com/assets/colab-badge.svg\" alt=\"Open In Colab\"/></a>"
      ]
    },
    {
      "cell_type": "markdown",
      "metadata": {
        "id": "_zLyiPrrg21C"
      },
      "source": [
        "# Import Libraries"
      ]
    },
    {
      "cell_type": "code",
      "metadata": {
        "id": "GiYJzLdAfhzA",
        "colab": {
          "base_uri": "https://localhost:8080/"
        },
        "outputId": "55aeed82-e38b-4691-ae2e-e9bb52676d73"
      },
      "source": [
        "from sklearn.model_selection import train_test_split\n",
        "from tensorflow.keras.preprocessing.text import Tokenizer\n",
        "from tensorflow.keras.preprocessing.sequence import pad_sequences\n",
        "import matplotlib.pyplot as plt\n",
        "import numpy as np\n",
        "import pandas as pd\n",
        "import tensorflow as tf\n",
        "import zipfile\n",
        "import warnings\n",
        "warnings.filterwarnings(\"ignore\")\n",
        "\n",
        "!pip install ipython-autotime\n",
        "%load_ext autotime"
      ],
      "execution_count": null,
      "outputs": [
        {
          "output_type": "stream",
          "text": [
            "Requirement already satisfied: ipython-autotime in /usr/local/lib/python3.7/dist-packages (0.3.1)\n",
            "Requirement already satisfied: ipython in /usr/local/lib/python3.7/dist-packages (from ipython-autotime) (5.5.0)\n",
            "Requirement already satisfied: pygments in /usr/local/lib/python3.7/dist-packages (from ipython->ipython-autotime) (2.6.1)\n",
            "Requirement already satisfied: prompt-toolkit<2.0.0,>=1.0.4 in /usr/local/lib/python3.7/dist-packages (from ipython->ipython-autotime) (1.0.18)\n",
            "Requirement already satisfied: setuptools>=18.5 in /usr/local/lib/python3.7/dist-packages (from ipython->ipython-autotime) (56.1.0)\n",
            "Requirement already satisfied: pickleshare in /usr/local/lib/python3.7/dist-packages (from ipython->ipython-autotime) (0.7.5)\n",
            "Requirement already satisfied: pexpect; sys_platform != \"win32\" in /usr/local/lib/python3.7/dist-packages (from ipython->ipython-autotime) (4.8.0)\n",
            "Requirement already satisfied: decorator in /usr/local/lib/python3.7/dist-packages (from ipython->ipython-autotime) (4.4.2)\n",
            "Requirement already satisfied: simplegeneric>0.8 in /usr/local/lib/python3.7/dist-packages (from ipython->ipython-autotime) (0.8.1)\n",
            "Requirement already satisfied: traitlets>=4.2 in /usr/local/lib/python3.7/dist-packages (from ipython->ipython-autotime) (5.0.5)\n",
            "Requirement already satisfied: six>=1.9.0 in /usr/local/lib/python3.7/dist-packages (from prompt-toolkit<2.0.0,>=1.0.4->ipython->ipython-autotime) (1.15.0)\n",
            "Requirement already satisfied: wcwidth in /usr/local/lib/python3.7/dist-packages (from prompt-toolkit<2.0.0,>=1.0.4->ipython->ipython-autotime) (0.2.5)\n",
            "Requirement already satisfied: ptyprocess>=0.5 in /usr/local/lib/python3.7/dist-packages (from pexpect; sys_platform != \"win32\"->ipython->ipython-autotime) (0.7.0)\n",
            "Requirement already satisfied: ipython-genutils in /usr/local/lib/python3.7/dist-packages (from traitlets>=4.2->ipython->ipython-autotime) (0.2.0)\n",
            "time: 1.2 ms (started: 2021-05-17 07:47:40 +00:00)\n"
          ],
          "name": "stdout"
        }
      ]
    },
    {
      "cell_type": "markdown",
      "metadata": {
        "id": "3Sn1K681-YNh"
      },
      "source": [
        "# Extract Data\n",
        "Extract and save data locally in /tmp folder"
      ]
    },
    {
      "cell_type": "code",
      "metadata": {
        "colab": {
          "base_uri": "https://localhost:8080/"
        },
        "id": "EKX6g9B68Okd",
        "outputId": "88c02829-3b30-4b2d-c51d-2f4548a56c5a"
      },
      "source": [
        "local_zip = '/content/drive/MyDrive/Colab Notebooks/Data/emotion.zip'\n",
        "zip_ref = zipfile.ZipFile(local_zip, 'r')\n",
        "zip_ref.extractall('/tmp')\n",
        "zip_ref.close()"
      ],
      "execution_count": null,
      "outputs": [
        {
          "output_type": "stream",
          "text": [
            "time: 25.1 ms (started: 2021-05-17 07:47:40 +00:00)\n"
          ],
          "name": "stdout"
        }
      ]
    },
    {
      "cell_type": "markdown",
      "metadata": {
        "id": "TfvAuSSG-hGu"
      },
      "source": [
        "# Read Data"
      ]
    },
    {
      "cell_type": "code",
      "metadata": {
        "colab": {
          "base_uri": "https://localhost:8080/",
          "height": 221
        },
        "id": "BkY1MQow9ovf",
        "outputId": "99d85ec1-660f-4cbb-fd5c-4a1aca2587bf"
      },
      "source": [
        "data = pd.read_csv(\"/tmp/Emotion_final.csv\")\n",
        "data.head()"
      ],
      "execution_count": null,
      "outputs": [
        {
          "output_type": "execute_result",
          "data": {
            "text/html": [
              "<div>\n",
              "<style scoped>\n",
              "    .dataframe tbody tr th:only-of-type {\n",
              "        vertical-align: middle;\n",
              "    }\n",
              "\n",
              "    .dataframe tbody tr th {\n",
              "        vertical-align: top;\n",
              "    }\n",
              "\n",
              "    .dataframe thead th {\n",
              "        text-align: right;\n",
              "    }\n",
              "</style>\n",
              "<table border=\"1\" class=\"dataframe\">\n",
              "  <thead>\n",
              "    <tr style=\"text-align: right;\">\n",
              "      <th></th>\n",
              "      <th>Text</th>\n",
              "      <th>Emotion</th>\n",
              "    </tr>\n",
              "  </thead>\n",
              "  <tbody>\n",
              "    <tr>\n",
              "      <th>0</th>\n",
              "      <td>i didnt feel humiliated</td>\n",
              "      <td>sadness</td>\n",
              "    </tr>\n",
              "    <tr>\n",
              "      <th>1</th>\n",
              "      <td>i can go from feeling so hopeless to so damned...</td>\n",
              "      <td>sadness</td>\n",
              "    </tr>\n",
              "    <tr>\n",
              "      <th>2</th>\n",
              "      <td>im grabbing a minute to post i feel greedy wrong</td>\n",
              "      <td>anger</td>\n",
              "    </tr>\n",
              "    <tr>\n",
              "      <th>3</th>\n",
              "      <td>i am ever feeling nostalgic about the fireplac...</td>\n",
              "      <td>love</td>\n",
              "    </tr>\n",
              "    <tr>\n",
              "      <th>4</th>\n",
              "      <td>i am feeling grouchy</td>\n",
              "      <td>anger</td>\n",
              "    </tr>\n",
              "  </tbody>\n",
              "</table>\n",
              "</div>"
            ],
            "text/plain": [
              "                                                Text  Emotion\n",
              "0                            i didnt feel humiliated  sadness\n",
              "1  i can go from feeling so hopeless to so damned...  sadness\n",
              "2   im grabbing a minute to post i feel greedy wrong    anger\n",
              "3  i am ever feeling nostalgic about the fireplac...     love\n",
              "4                               i am feeling grouchy    anger"
            ]
          },
          "metadata": {
            "tags": []
          },
          "execution_count": 3
        },
        {
          "output_type": "stream",
          "text": [
            "time: 43.5 ms (started: 2021-05-17 07:47:40 +00:00)\n"
          ],
          "name": "stdout"
        }
      ]
    },
    {
      "cell_type": "code",
      "metadata": {
        "colab": {
          "base_uri": "https://localhost:8080/"
        },
        "id": "j_bPhYvK1yIH",
        "outputId": "4229e004-1cf4-4d61-ea48-a9425b1e841b"
      },
      "source": [
        "data.shape"
      ],
      "execution_count": null,
      "outputs": [
        {
          "output_type": "execute_result",
          "data": {
            "text/plain": [
              "(21459, 2)"
            ]
          },
          "metadata": {
            "tags": []
          },
          "execution_count": 4
        },
        {
          "output_type": "stream",
          "text": [
            "time: 2.95 ms (started: 2021-05-17 07:47:40 +00:00)\n"
          ],
          "name": "stdout"
        }
      ]
    },
    {
      "cell_type": "code",
      "metadata": {
        "colab": {
          "base_uri": "https://localhost:8080/"
        },
        "id": "LgS7Hkwy_4zX",
        "outputId": "3e624904-42b0-41a5-cf47-0ca65ca6e100"
      },
      "source": [
        "data.Emotion.value_counts()"
      ],
      "execution_count": null,
      "outputs": [
        {
          "output_type": "execute_result",
          "data": {
            "text/plain": [
              "happy       7029\n",
              "sadness     6265\n",
              "anger       2993\n",
              "fear        2652\n",
              "love        1641\n",
              "surprise     879\n",
              "Name: Emotion, dtype: int64"
            ]
          },
          "metadata": {
            "tags": []
          },
          "execution_count": 5
        },
        {
          "output_type": "stream",
          "text": [
            "time: 8.38 ms (started: 2021-05-17 07:47:40 +00:00)\n"
          ],
          "name": "stdout"
        }
      ]
    },
    {
      "cell_type": "markdown",
      "metadata": {
        "id": "YjhXUzpp37Et"
      },
      "source": [
        "# Make Dummy Variable for Emoticon"
      ]
    },
    {
      "cell_type": "code",
      "metadata": {
        "colab": {
          "base_uri": "https://localhost:8080/",
          "height": 221
        },
        "id": "CgPfuZ9n96ue",
        "outputId": "95cf6e19-2f15-45c6-b265-36c4b7e6e4dc"
      },
      "source": [
        "emotion = pd.get_dummies(data.Emotion)\n",
        "data_new = pd.concat([data, emotion], axis=1)\n",
        "data_new = data_new.drop(columns='Emotion')\n",
        "data_new.head()"
      ],
      "execution_count": null,
      "outputs": [
        {
          "output_type": "execute_result",
          "data": {
            "text/html": [
              "<div>\n",
              "<style scoped>\n",
              "    .dataframe tbody tr th:only-of-type {\n",
              "        vertical-align: middle;\n",
              "    }\n",
              "\n",
              "    .dataframe tbody tr th {\n",
              "        vertical-align: top;\n",
              "    }\n",
              "\n",
              "    .dataframe thead th {\n",
              "        text-align: right;\n",
              "    }\n",
              "</style>\n",
              "<table border=\"1\" class=\"dataframe\">\n",
              "  <thead>\n",
              "    <tr style=\"text-align: right;\">\n",
              "      <th></th>\n",
              "      <th>Text</th>\n",
              "      <th>anger</th>\n",
              "      <th>fear</th>\n",
              "      <th>happy</th>\n",
              "      <th>love</th>\n",
              "      <th>sadness</th>\n",
              "      <th>surprise</th>\n",
              "    </tr>\n",
              "  </thead>\n",
              "  <tbody>\n",
              "    <tr>\n",
              "      <th>0</th>\n",
              "      <td>i didnt feel humiliated</td>\n",
              "      <td>0</td>\n",
              "      <td>0</td>\n",
              "      <td>0</td>\n",
              "      <td>0</td>\n",
              "      <td>1</td>\n",
              "      <td>0</td>\n",
              "    </tr>\n",
              "    <tr>\n",
              "      <th>1</th>\n",
              "      <td>i can go from feeling so hopeless to so damned...</td>\n",
              "      <td>0</td>\n",
              "      <td>0</td>\n",
              "      <td>0</td>\n",
              "      <td>0</td>\n",
              "      <td>1</td>\n",
              "      <td>0</td>\n",
              "    </tr>\n",
              "    <tr>\n",
              "      <th>2</th>\n",
              "      <td>im grabbing a minute to post i feel greedy wrong</td>\n",
              "      <td>1</td>\n",
              "      <td>0</td>\n",
              "      <td>0</td>\n",
              "      <td>0</td>\n",
              "      <td>0</td>\n",
              "      <td>0</td>\n",
              "    </tr>\n",
              "    <tr>\n",
              "      <th>3</th>\n",
              "      <td>i am ever feeling nostalgic about the fireplac...</td>\n",
              "      <td>0</td>\n",
              "      <td>0</td>\n",
              "      <td>0</td>\n",
              "      <td>1</td>\n",
              "      <td>0</td>\n",
              "      <td>0</td>\n",
              "    </tr>\n",
              "    <tr>\n",
              "      <th>4</th>\n",
              "      <td>i am feeling grouchy</td>\n",
              "      <td>1</td>\n",
              "      <td>0</td>\n",
              "      <td>0</td>\n",
              "      <td>0</td>\n",
              "      <td>0</td>\n",
              "      <td>0</td>\n",
              "    </tr>\n",
              "  </tbody>\n",
              "</table>\n",
              "</div>"
            ],
            "text/plain": [
              "                                                Text  anger  ...  sadness  surprise\n",
              "0                            i didnt feel humiliated      0  ...        1         0\n",
              "1  i can go from feeling so hopeless to so damned...      0  ...        1         0\n",
              "2   im grabbing a minute to post i feel greedy wrong      1  ...        0         0\n",
              "3  i am ever feeling nostalgic about the fireplac...      0  ...        0         0\n",
              "4                               i am feeling grouchy      1  ...        0         0\n",
              "\n",
              "[5 rows x 7 columns]"
            ]
          },
          "metadata": {
            "tags": []
          },
          "execution_count": 6
        },
        {
          "output_type": "stream",
          "text": [
            "time: 27 ms (started: 2021-05-17 07:47:40 +00:00)\n"
          ],
          "name": "stdout"
        }
      ]
    },
    {
      "cell_type": "code",
      "metadata": {
        "colab": {
          "base_uri": "https://localhost:8080/"
        },
        "id": "Zf1kfGvrAURt",
        "outputId": "db2be2e8-9311-41cc-f70e-1f54c289aae3"
      },
      "source": [
        "text = data_new['Text'].values\n",
        "emot = data_new[['anger',\t'fear',\t'happy',\t'love',\t'sadness',\t'surprise']].values"
      ],
      "execution_count": null,
      "outputs": [
        {
          "output_type": "stream",
          "text": [
            "time: 3.07 ms (started: 2021-05-17 07:47:40 +00:00)\n"
          ],
          "name": "stdout"
        }
      ]
    },
    {
      "cell_type": "code",
      "metadata": {
        "colab": {
          "base_uri": "https://localhost:8080/"
        },
        "id": "VHeXVgx4y0LT",
        "outputId": "c8f855dc-a994-4fc3-b8e6-d38f8b4b261c"
      },
      "source": [
        "text"
      ],
      "execution_count": null,
      "outputs": [
        {
          "output_type": "execute_result",
          "data": {
            "text/plain": [
              "array(['i didnt feel humiliated',\n",
              "       'i can go from feeling so hopeless to so damned hopeful just from being around someone who cares and is awake',\n",
              "       'im grabbing a minute to post i feel greedy wrong', ...,\n",
              "       'Vincent was irritated but not dismay',\n",
              "       'Kendall-Hume turned back to face the dismayed coup',\n",
              "       'I am dismayed , but not surpris'], dtype=object)"
            ]
          },
          "metadata": {
            "tags": []
          },
          "execution_count": 8
        },
        {
          "output_type": "stream",
          "text": [
            "time: 3.8 ms (started: 2021-05-17 07:47:40 +00:00)\n"
          ],
          "name": "stdout"
        }
      ]
    },
    {
      "cell_type": "code",
      "metadata": {
        "colab": {
          "base_uri": "https://localhost:8080/"
        },
        "id": "Hke9WnTmy04G",
        "outputId": "8acf8bfb-b2ef-4692-cf40-3d0e023f5196"
      },
      "source": [
        "emot"
      ],
      "execution_count": null,
      "outputs": [
        {
          "output_type": "execute_result",
          "data": {
            "text/plain": [
              "array([[0, 0, 0, 0, 1, 0],\n",
              "       [0, 0, 0, 0, 1, 0],\n",
              "       [1, 0, 0, 0, 0, 0],\n",
              "       ...,\n",
              "       [0, 1, 0, 0, 0, 0],\n",
              "       [0, 1, 0, 0, 0, 0],\n",
              "       [0, 1, 0, 0, 0, 0]], dtype=uint8)"
            ]
          },
          "metadata": {
            "tags": []
          },
          "execution_count": 9
        },
        {
          "output_type": "stream",
          "text": [
            "time: 3.26 ms (started: 2021-05-17 07:47:40 +00:00)\n"
          ],
          "name": "stdout"
        }
      ]
    },
    {
      "cell_type": "markdown",
      "metadata": {
        "id": "kR5N17nA4JdW"
      },
      "source": [
        "# Split Data"
      ]
    },
    {
      "cell_type": "code",
      "metadata": {
        "colab": {
          "base_uri": "https://localhost:8080/"
        },
        "id": "5E6HrhjYBPtm",
        "outputId": "c112fc02-736b-48c8-802c-d35bcc3f48b1"
      },
      "source": [
        "text_train, text_test, emot_train, emot_test = train_test_split(text, emot, test_size=0.2, random_state=42) "
      ],
      "execution_count": null,
      "outputs": [
        {
          "output_type": "stream",
          "text": [
            "time: 4.78 ms (started: 2021-05-17 07:47:40 +00:00)\n"
          ],
          "name": "stdout"
        }
      ]
    },
    {
      "cell_type": "markdown",
      "metadata": {
        "id": "EaSEIxEL4O6m"
      },
      "source": [
        "# Tokenization"
      ]
    },
    {
      "cell_type": "code",
      "metadata": {
        "colab": {
          "base_uri": "https://localhost:8080/"
        },
        "id": "Y0e1p_cHB3b6",
        "outputId": "ff13350d-aff6-4de1-ed70-d7a9d36bfe70"
      },
      "source": [
        "tokenizer = Tokenizer(num_words=20000)\n",
        "tokenizer.fit_on_texts(text_train) \n",
        "tokenizer.fit_on_texts(text_test)\n",
        " \n",
        "seq_train = tokenizer.texts_to_sequences(text_train)\n",
        "seq_test = tokenizer.texts_to_sequences(text_test)\n",
        " \n",
        "pad_train = pad_sequences(seq_train)\n",
        "pad_test = pad_sequences(seq_test)"
      ],
      "execution_count": null,
      "outputs": [
        {
          "output_type": "stream",
          "text": [
            "time: 790 ms (started: 2021-05-17 07:47:40 +00:00)\n"
          ],
          "name": "stdout"
        }
      ]
    },
    {
      "cell_type": "markdown",
      "metadata": {
        "id": "iCKPhe-fDgZo"
      },
      "source": [
        "# Use Callback to Control the Epoch"
      ]
    },
    {
      "cell_type": "code",
      "metadata": {
        "id": "tJ-2H09Kfauu",
        "colab": {
          "base_uri": "https://localhost:8080/"
        },
        "outputId": "899447f2-f89d-45dc-ff6f-abdf557b4267"
      },
      "source": [
        "reduce_lr = tf.keras.callbacks.ReduceLROnPlateau(\n",
        "    monitor='val_loss', \n",
        "    factor=0.2,\n",
        "    patience=5, \n",
        "    min_lr=1.5e-5\n",
        ")\n",
        "\n",
        "early_stop = tf.keras.callbacks.EarlyStopping(\n",
        "    monitor=\"val_loss\",\n",
        "    min_delta=0,\n",
        "    patience=12,\n",
        "    verbose=0,\n",
        "    mode=\"auto\",\n",
        "    baseline=None,\n",
        "    restore_best_weights=True\n",
        ")"
      ],
      "execution_count": null,
      "outputs": [
        {
          "output_type": "stream",
          "text": [
            "time: 3.05 ms (started: 2021-05-17 07:47:41 +00:00)\n"
          ],
          "name": "stdout"
        }
      ]
    },
    {
      "cell_type": "markdown",
      "metadata": {
        "id": "FjDByj2GANUW"
      },
      "source": [
        "# Make Some Function to Plot the Modelling History"
      ]
    },
    {
      "cell_type": "code",
      "metadata": {
        "id": "qDcXxNqQcJFi",
        "colab": {
          "base_uri": "https://localhost:8080/"
        },
        "outputId": "08eef820-b0a9-478e-f497-31c6fc39a5e1"
      },
      "source": [
        "plt.style.use('seaborn-whitegrid')\n",
        "\n",
        "def plot_acc(history):\n",
        "  acc = history.history['accuracy']\n",
        "  val_acc = history.history['val_accuracy']\n",
        "  epochs = range(len(acc))\n",
        "  plt.subplot(1, 2, 1)\n",
        "  acc_plot, = plt.plot(epochs, acc, 'r')\n",
        "  val_acc_plot, = plt.plot(epochs, val_acc, 'b')\n",
        "  plt.title('Training and Validation Accuracy')\n",
        "  plt.legend([acc_plot, val_acc_plot], ['Training Accuracy', 'Validation Accuracy'])\n",
        "\n",
        "\n",
        "def plot_loss(history):\n",
        "  loss = history.history['loss']\n",
        "  val_loss = history.history['val_loss']\n",
        "  epochs = range(len(loss))\n",
        "  plt.subplot(1, 2, 2)\n",
        "  loss_plot, = plt.plot(epochs, loss, 'r')\n",
        "  val_loss_plot, = plt.plot(epochs, val_loss, 'b')\n",
        "  plt.title('Training and Validation Loss')\n",
        "  plt.legend([loss_plot, val_loss_plot], ['Training Loss', 'Validation Loss'])\n",
        "\n",
        "def plot_history(history):\n",
        "  plt.figure(figsize=(15,5))\n",
        "  plot_acc(history)\n",
        "  plot_loss(history)"
      ],
      "execution_count": null,
      "outputs": [
        {
          "output_type": "stream",
          "text": [
            "time: 14.9 ms (started: 2021-05-17 07:47:41 +00:00)\n"
          ],
          "name": "stdout"
        }
      ]
    },
    {
      "cell_type": "markdown",
      "metadata": {
        "id": "pMSrfF8zBQe5"
      },
      "source": [
        "# Construct Basic Sequential Model Using CNN"
      ]
    },
    {
      "cell_type": "code",
      "metadata": {
        "colab": {
          "base_uri": "https://localhost:8080/"
        },
        "id": "r5i0WNgLcSUU",
        "outputId": "1feec8af-ea1b-415d-c5d7-a3f02f4726c4"
      },
      "source": [
        "tf.keras.backend.clear_session()\n",
        "\n",
        "model_emot = tf.keras.models.Sequential([\n",
        "    tf.keras.layers.Embedding(input_dim=20000, output_dim=64),\n",
        "    tf.keras.layers.Dropout(0.5),\n",
        "    tf.keras.layers.LSTM(64),\n",
        "    tf.keras.layers.Dropout(0.3),\n",
        "    tf.keras.layers.Dense(6, activation='softmax')\n",
        "])\n",
        "\n",
        "model_emot.summary()"
      ],
      "execution_count": null,
      "outputs": [
        {
          "output_type": "stream",
          "text": [
            "Model: \"sequential\"\n",
            "_________________________________________________________________\n",
            "Layer (type)                 Output Shape              Param #   \n",
            "=================================================================\n",
            "embedding (Embedding)        (None, None, 64)          1280000   \n",
            "_________________________________________________________________\n",
            "dropout (Dropout)            (None, None, 64)          0         \n",
            "_________________________________________________________________\n",
            "lstm (LSTM)                  (None, 64)                33024     \n",
            "_________________________________________________________________\n",
            "dropout_1 (Dropout)          (None, 64)                0         \n",
            "_________________________________________________________________\n",
            "dense (Dense)                (None, 6)                 390       \n",
            "=================================================================\n",
            "Total params: 1,313,414\n",
            "Trainable params: 1,313,414\n",
            "Non-trainable params: 0\n",
            "_________________________________________________________________\n",
            "time: 260 ms (started: 2021-05-17 08:25:24 +00:00)\n"
          ],
          "name": "stdout"
        }
      ]
    },
    {
      "cell_type": "markdown",
      "metadata": {
        "id": "hnGFVgH0MdcZ"
      },
      "source": [
        "# Running the Basic Model"
      ]
    },
    {
      "cell_type": "code",
      "metadata": {
        "id": "hLQe9ePwMcyP",
        "colab": {
          "base_uri": "https://localhost:8080/"
        },
        "outputId": "e322bc8d-f5ba-46fd-df2e-cb9b51314113"
      },
      "source": [
        "model_emot.compile(\n",
        "    optimizer='adam', \n",
        "    loss='binary_crossentropy', \n",
        "    metrics=['accuracy']\n",
        ")\n",
        "\n",
        "history_emot = model_emot.fit(\n",
        "    pad_train, \n",
        "    emot_train,\n",
        "    epochs=100,\n",
        "    callbacks = [reduce_lr, early_stop],\n",
        "    verbose=1,\n",
        "    validation_data=(pad_test, emot_test)\n",
        ")"
      ],
      "execution_count": null,
      "outputs": [
        {
          "output_type": "stream",
          "text": [
            "Epoch 1/100\n",
            "537/537 [==============================] - 11s 18ms/step - loss: 0.4539 - accuracy: 0.3208 - val_loss: 0.3179 - val_accuracy: 0.5650\n",
            "Epoch 2/100\n",
            "537/537 [==============================] - 9s 17ms/step - loss: 0.2784 - accuracy: 0.6383 - val_loss: 0.1864 - val_accuracy: 0.8034\n",
            "Epoch 3/100\n",
            "537/537 [==============================] - 9s 17ms/step - loss: 0.1568 - accuracy: 0.8343 - val_loss: 0.1064 - val_accuracy: 0.8842\n",
            "Epoch 4/100\n",
            "537/537 [==============================] - 9s 17ms/step - loss: 0.0920 - accuracy: 0.9032 - val_loss: 0.0897 - val_accuracy: 0.9045\n",
            "Epoch 5/100\n",
            "537/537 [==============================] - 9s 17ms/step - loss: 0.0641 - accuracy: 0.9400 - val_loss: 0.0720 - val_accuracy: 0.9166\n",
            "Epoch 6/100\n",
            "537/537 [==============================] - 9s 17ms/step - loss: 0.0505 - accuracy: 0.9527 - val_loss: 0.0738 - val_accuracy: 0.9161\n",
            "Epoch 7/100\n",
            "537/537 [==============================] - 9s 17ms/step - loss: 0.0386 - accuracy: 0.9629 - val_loss: 0.0729 - val_accuracy: 0.9164\n",
            "Epoch 8/100\n",
            "537/537 [==============================] - 9s 17ms/step - loss: 0.0314 - accuracy: 0.9708 - val_loss: 0.0741 - val_accuracy: 0.9245\n",
            "Epoch 9/100\n",
            "537/537 [==============================] - 9s 16ms/step - loss: 0.0281 - accuracy: 0.9752 - val_loss: 0.0802 - val_accuracy: 0.9094\n",
            "Epoch 10/100\n",
            "537/537 [==============================] - 9s 17ms/step - loss: 0.0246 - accuracy: 0.9794 - val_loss: 0.0739 - val_accuracy: 0.9247\n",
            "Epoch 11/100\n",
            "537/537 [==============================] - 9s 17ms/step - loss: 0.0171 - accuracy: 0.9855 - val_loss: 0.0736 - val_accuracy: 0.9254\n",
            "Epoch 12/100\n",
            "537/537 [==============================] - 9s 17ms/step - loss: 0.0159 - accuracy: 0.9865 - val_loss: 0.0758 - val_accuracy: 0.9245\n",
            "Epoch 13/100\n",
            "537/537 [==============================] - 9s 17ms/step - loss: 0.0151 - accuracy: 0.9857 - val_loss: 0.0747 - val_accuracy: 0.9257\n",
            "Epoch 14/100\n",
            "537/537 [==============================] - 9s 17ms/step - loss: 0.0155 - accuracy: 0.9867 - val_loss: 0.0768 - val_accuracy: 0.9261\n",
            "Epoch 15/100\n",
            "537/537 [==============================] - 9s 17ms/step - loss: 0.0133 - accuracy: 0.9891 - val_loss: 0.0769 - val_accuracy: 0.9243\n",
            "Epoch 16/100\n",
            "537/537 [==============================] - 9s 17ms/step - loss: 0.0126 - accuracy: 0.9896 - val_loss: 0.0787 - val_accuracy: 0.9250\n",
            "Epoch 17/100\n",
            "537/537 [==============================] - 9s 17ms/step - loss: 0.0138 - accuracy: 0.9876 - val_loss: 0.0789 - val_accuracy: 0.9264\n",
            "time: 2min 34s (started: 2021-05-17 08:25:25 +00:00)\n"
          ],
          "name": "stdout"
        }
      ]
    },
    {
      "cell_type": "markdown",
      "metadata": {
        "id": "AA5yOHjhMk_K"
      },
      "source": [
        "# Visualize the History of Basic Model"
      ]
    },
    {
      "cell_type": "code",
      "metadata": {
        "id": "vYwur4xIMnrJ",
        "colab": {
          "base_uri": "https://localhost:8080/",
          "height": 348
        },
        "outputId": "efd45beb-dd86-48df-d3db-b75da3467a89"
      },
      "source": [
        "plot_history(history_emot)"
      ],
      "execution_count": null,
      "outputs": [
        {
          "output_type": "display_data",
          "data": {
            "image/png": "[encoded data removed]",
            "text/plain": [
              "<Figure size 1080x360 with 2 Axes>"
            ]
          },
          "metadata": {
            "tags": []
          }
        },
        {
          "output_type": "stream",
          "text": [
            "time: 367 ms (started: 2021-05-17 08:27:59 +00:00)\n"
          ],
          "name": "stdout"
        }
      ]
    },
    {
      "cell_type": "markdown",
      "metadata": {
        "id": "5ZiYH-SVM82O"
      },
      "source": [
        "# Save the Basic Model for Deployment"
      ]
    },
    {
      "cell_type": "code",
      "metadata": {
        "colab": {
          "base_uri": "https://localhost:8080/"
        },
        "id": "hMpGwhiBM82Y",
        "outputId": "1119afef-2359-4dc3-ce98-c94a4748e642"
      },
      "source": [
        "model_emot.save_weights('model_emot_weights.h5')\n",
        "model_emot.save('model_emot.h5')"
      ],
      "execution_count": null,
      "outputs": [
        {
          "output_type": "stream",
          "text": [
            "time: 64.5 ms (started: 2021-05-17 08:27:59 +00:00)\n"
          ],
          "name": "stdout"
        }
      ]
    },
    {
      "cell_type": "markdown",
      "metadata": {
        "id": "y8jEz8qmCBEx"
      },
      "source": [
        "# Make Function to Predict Any Sentence"
      ]
    },
    {
      "cell_type": "code",
      "metadata": {
        "colab": {
          "base_uri": "https://localhost:8080/"
        },
        "id": "2JVVHZc1Vikv",
        "outputId": "bf30cbd6-b694-4411-8e05-313169861912"
      },
      "source": [
        "def predict_emotion(sentence, model = model_emot):\n",
        "  sequence = tokenizer.texts_to_sequences([sentence])\n",
        "  test = pad_sequences(sequence)\n",
        "  predict_array = model.predict(test)[0]\n",
        "\n",
        "  df = pd.DataFrame(predict_array)\n",
        "  df = df.rename({0:'Probability'}, axis = 'columns')\n",
        "  prod = ['Anger', 'Fear', 'Happy', 'Love', 'Sadness', 'Surprise']\n",
        "  df['Emotion'] = prod\n",
        "  df = df[['Emotion', 'Probability']]\n",
        "\n",
        "  predict_label = np.argmax(model.predict(test), axis=1)[0]\n",
        "\n",
        "  if predict_label == 0:\n",
        "      predict_product = 'Anger'\n",
        "  elif predict_label == 1:\n",
        "      predict_product = 'Fear'\n",
        "  elif predict_label == 2:\n",
        "      predict_product = 'Happy'\n",
        "  elif predict_label == 3:\n",
        "      predict_product = 'Love'\n",
        "  elif predict_label == 4:\n",
        "      predict_product = 'Sadness'\n",
        "  else:\n",
        "      predict_product = 'Surprise'\n",
        "\n",
        "  return predict_product, df"
      ],
      "execution_count": null,
      "outputs": [
        {
          "output_type": "stream",
          "text": [
            "time: 12.2 ms (started: 2021-05-17 08:28:00 +00:00)\n"
          ],
          "name": "stdout"
        }
      ]
    },
    {
      "cell_type": "code",
      "metadata": {
        "colab": {
          "base_uri": "https://localhost:8080/"
        },
        "id": "fHCF6jZQVSiH",
        "outputId": "283c3086-e107-4aeb-faa1-5918c9296458"
      },
      "source": [
        "sentence = \"Best regards, this is my submission\"\n",
        "\n",
        "label, df = predict_emotion(sentence)\n",
        "\n",
        "print('\"' + sentence + '\"')\n",
        "print(\"\\nThe sentence is detected as \" + label)\n",
        "print()\n",
        "print(df.sort_values(by='Probability', ascending=False))\n",
        "print()"
      ],
      "execution_count": null,
      "outputs": [
        {
          "output_type": "stream",
          "text": [
            "\"Best regards, this is my submission\"\n",
            "\n",
            "The sentence is detected as Happy\n",
            "\n",
            "    Emotion  Probability\n",
            "2     Happy     0.353755\n",
            "4   Sadness     0.179343\n",
            "0     Anger     0.151928\n",
            "3      Love     0.125626\n",
            "5  Surprise     0.105359\n",
            "1      Fear     0.083990\n",
            "\n",
            "time: 75.3 ms (started: 2021-05-17 08:35:27 +00:00)\n"
          ],
          "name": "stdout"
        }
      ]
    }
  ]
}